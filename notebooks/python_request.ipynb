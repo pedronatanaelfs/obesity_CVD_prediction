{
 "cells": [
  {
   "cell_type": "code",
   "execution_count": 1,
   "metadata": {},
   "outputs": [],
   "source": [
    "import json\n",
    "import requests\n",
    "import pandas as pd"
   ]
  },
  {
   "cell_type": "code",
   "execution_count": 2,
   "metadata": {},
   "outputs": [],
   "source": [
    "URL = \"http://127.0.0.1:5000/predict\""
   ]
  },
  {
   "cell_type": "code",
   "execution_count": 3,
   "metadata": {},
   "outputs": [
    {
     "data": {
      "text/html": [
       "<div>\n",
       "<style scoped>\n",
       "    .dataframe tbody tr th:only-of-type {\n",
       "        vertical-align: middle;\n",
       "    }\n",
       "\n",
       "    .dataframe tbody tr th {\n",
       "        vertical-align: top;\n",
       "    }\n",
       "\n",
       "    .dataframe thead th {\n",
       "        text-align: right;\n",
       "    }\n",
       "</style>\n",
       "<table border=\"1\" class=\"dataframe\">\n",
       "  <thead>\n",
       "    <tr style=\"text-align: right;\">\n",
       "      <th></th>\n",
       "      <th>Age</th>\n",
       "      <th>Gender</th>\n",
       "      <th>Height</th>\n",
       "      <th>Weight</th>\n",
       "      <th>family_history_with_overweight</th>\n",
       "      <th>FAVC</th>\n",
       "      <th>FCVC</th>\n",
       "      <th>NCP</th>\n",
       "      <th>CAEC</th>\n",
       "      <th>SMOKE</th>\n",
       "      <th>CH2O</th>\n",
       "      <th>SCC</th>\n",
       "      <th>FAF</th>\n",
       "      <th>TUE</th>\n",
       "      <th>CALC</th>\n",
       "      <th>MTRANS</th>\n",
       "    </tr>\n",
       "  </thead>\n",
       "  <tbody>\n",
       "    <tr>\n",
       "      <th>0</th>\n",
       "      <td>60</td>\n",
       "      <td>Male</td>\n",
       "      <td>1.60</td>\n",
       "      <td>72</td>\n",
       "      <td>yes</td>\n",
       "      <td>no</td>\n",
       "      <td>0.3</td>\n",
       "      <td>3</td>\n",
       "      <td>no</td>\n",
       "      <td>no</td>\n",
       "      <td>2.0</td>\n",
       "      <td>no</td>\n",
       "      <td>2.0</td>\n",
       "      <td>1.0</td>\n",
       "      <td>no</td>\n",
       "      <td>Public_Transportation</td>\n",
       "    </tr>\n",
       "    <tr>\n",
       "      <th>1</th>\n",
       "      <td>28</td>\n",
       "      <td>Female</td>\n",
       "      <td>1.54</td>\n",
       "      <td>65</td>\n",
       "      <td>no</td>\n",
       "      <td>no</td>\n",
       "      <td>0.8</td>\n",
       "      <td>2</td>\n",
       "      <td>no</td>\n",
       "      <td>yes</td>\n",
       "      <td>1.5</td>\n",
       "      <td>yes</td>\n",
       "      <td>2.0</td>\n",
       "      <td>1.1</td>\n",
       "      <td>no</td>\n",
       "      <td>Walking</td>\n",
       "    </tr>\n",
       "    <tr>\n",
       "      <th>2</th>\n",
       "      <td>42</td>\n",
       "      <td>Male</td>\n",
       "      <td>1.70</td>\n",
       "      <td>83</td>\n",
       "      <td>yes</td>\n",
       "      <td>yes</td>\n",
       "      <td>1.0</td>\n",
       "      <td>3</td>\n",
       "      <td>yes</td>\n",
       "      <td>yes</td>\n",
       "      <td>2.0</td>\n",
       "      <td>no</td>\n",
       "      <td>1.5</td>\n",
       "      <td>1.2</td>\n",
       "      <td>Sometimes</td>\n",
       "      <td>Automobile</td>\n",
       "    </tr>\n",
       "  </tbody>\n",
       "</table>\n",
       "</div>"
      ],
      "text/plain": [
       "   Age  Gender  Height  Weight family_history_with_overweight FAVC  FCVC  NCP  \\\n",
       "0   60    Male    1.60      72                            yes   no   0.3    3   \n",
       "1   28  Female    1.54      65                             no   no   0.8    2   \n",
       "2   42    Male    1.70      83                            yes  yes   1.0    3   \n",
       "\n",
       "  CAEC SMOKE  CH2O  SCC  FAF  TUE       CALC                 MTRANS  \n",
       "0   no    no   2.0   no  2.0  1.0         no  Public_Transportation  \n",
       "1   no   yes   1.5  yes  2.0  1.1         no                Walking  \n",
       "2  yes   yes   2.0   no  1.5  1.2  Sometimes             Automobile  "
      ]
     },
     "execution_count": 3,
     "metadata": {},
     "output_type": "execute_result"
    }
   ],
   "source": [
    "df_input = pd.DataFrame({\n",
    "    \"Age\": [60, 28, 42],\n",
    "    \"Gender\": [\"Male\", \"Female\", \"Male\"],\n",
    "    \"Height\": [1.60, 1.54, 1.70],\n",
    "    \"Weight\": [72, 65, 83],\n",
    "    \"family_history_with_overweight\": [\"yes\",\"no\",'yes'],\n",
    "    \"FAVC\": [\"no\", \"no\",\"yes\"],\n",
    "    \"FCVC\": [0.3, 0.8, 1],\n",
    "    \"NCP\": [3, 2, 3],\n",
    "    \"CAEC\": [\"no\", \"no\",\"yes\"],\n",
    "    \"SMOKE\": [\"no\", \"yes\", \"yes\"],\n",
    "    \"CH2O\": [2, 1.5, 2],\n",
    "    \"SCC\": [\"no\", \"yes\", \"no\"],\n",
    "    \"FAF\": [2, 2, 1.5],\n",
    "    \"TUE\": [1, 1.1, 1.2],\n",
    "    \"CALC\": [\"no\", \"no\",\"Sometimes\"],\n",
    "    \"MTRANS\": [\"Public_Transportation\", \"Walking\", \"Automobile\"]\n",
    "})\n",
    "df_input"
   ]
  },
  {
   "cell_type": "code",
   "execution_count": 7,
   "metadata": {},
   "outputs": [
    {
     "data": {
      "text/plain": [
       "{'data': [{'Age': 60,\n",
       "   'Gender': 'Male',\n",
       "   'Height': 1.6,\n",
       "   'Weight': 72,\n",
       "   'family_history_with_overweight': 'yes',\n",
       "   'FAVC': 'no',\n",
       "   'FCVC': 0.3,\n",
       "   'NCP': 3,\n",
       "   'CAEC': 'no',\n",
       "   'SMOKE': 'no',\n",
       "   'CH2O': 2.0,\n",
       "   'SCC': 'no',\n",
       "   'FAF': 2.0,\n",
       "   'TUE': 1.0,\n",
       "   'CALC': 'no',\n",
       "   'MTRANS': 'Public_Transportation'},\n",
       "  {'Age': 28,\n",
       "   'Gender': 'Female',\n",
       "   'Height': 1.54,\n",
       "   'Weight': 65,\n",
       "   'family_history_with_overweight': 'no',\n",
       "   'FAVC': 'no',\n",
       "   'FCVC': 0.8,\n",
       "   'NCP': 2,\n",
       "   'CAEC': 'no',\n",
       "   'SMOKE': 'yes',\n",
       "   'CH2O': 1.5,\n",
       "   'SCC': 'yes',\n",
       "   'FAF': 2.0,\n",
       "   'TUE': 1.1,\n",
       "   'CALC': 'no',\n",
       "   'MTRANS': 'Walking'},\n",
       "  {'Age': 42,\n",
       "   'Gender': 'Male',\n",
       "   'Height': 1.7,\n",
       "   'Weight': 83,\n",
       "   'family_history_with_overweight': 'yes',\n",
       "   'FAVC': 'yes',\n",
       "   'FCVC': 1.0,\n",
       "   'NCP': 3,\n",
       "   'CAEC': 'yes',\n",
       "   'SMOKE': 'yes',\n",
       "   'CH2O': 2.0,\n",
       "   'SCC': 'no',\n",
       "   'FAF': 1.5,\n",
       "   'TUE': 1.2,\n",
       "   'CALC': 'Sometimes',\n",
       "   'MTRANS': 'Automobile'}]}"
      ]
     },
     "execution_count": 7,
     "metadata": {},
     "output_type": "execute_result"
    }
   ],
   "source": [
    "json_input = {'data': df_input.to_dict(orient='records')}\n",
    "json_input"
   ]
  },
  {
   "cell_type": "code",
   "execution_count": 8,
   "metadata": {},
   "outputs": [
    {
     "data": {
      "text/plain": [
       "<Response [200]>"
      ]
     },
     "execution_count": 8,
     "metadata": {},
     "output_type": "execute_result"
    }
   ],
   "source": [
    "answer = requests.post(URL, json=json_input)\n",
    "answer"
   ]
  },
  {
   "cell_type": "code",
   "execution_count": 11,
   "metadata": {},
   "outputs": [
    {
     "data": {
      "text/plain": [
       "['Overweight_Level_I', 'Overweight_Level_I', 'Overweight_Level_II']"
      ]
     },
     "execution_count": 11,
     "metadata": {},
     "output_type": "execute_result"
    }
   ],
   "source": [
    "answer.json()"
   ]
  }
 ],
 "metadata": {
  "kernelspec": {
   "display_name": "stenv_obes",
   "language": "python",
   "name": "python3"
  },
  "language_info": {
   "codemirror_mode": {
    "name": "ipython",
    "version": 3
   },
   "file_extension": ".py",
   "mimetype": "text/x-python",
   "name": "python",
   "nbconvert_exporter": "python",
   "pygments_lexer": "ipython3",
   "version": "3.8.18"
  }
 },
 "nbformat": 4,
 "nbformat_minor": 2
}
